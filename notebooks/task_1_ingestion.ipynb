{
 "cells": [
  {
   "cell_type": "code",
   "execution_count": 5,
   "id": "4899b16c-ea93-4054-8e76-7b5f09a16e36",
   "metadata": {},
   "outputs": [
    {
     "name": "stdout",
     "output_type": "stream",
     "text": [
      "Collecting python-dotenv\n",
      "  Using cached python_dotenv-1.1.0-py3-none-any.whl.metadata (24 kB)\n",
      "Using cached python_dotenv-1.1.0-py3-none-any.whl (20 kB)\n",
      "Installing collected packages: python-dotenv\n",
      "Successfully installed python-dotenv-1.1.0\n"
     ]
    }
   ],
   "source": [
    "import sys\n",
    "!{sys.executable} -m pip install python-dotenv"
   ]
  },
  {
   "cell_type": "code",
   "execution_count": 9,
   "id": "81a66b42-0854-446d-9eb4-0010ae8871cb",
   "metadata": {},
   "outputs": [],
   "source": [
    "import sys\n",
    "import os\n",
    "sys.path.append(os.path.abspath(os.path.join(os.getcwd(), '..')))"
   ]
  },
  {
   "cell_type": "code",
   "execution_count": 10,
   "id": "6de1b634-19e1-4235-b41c-09ec2ffde4e8",
   "metadata": {},
   "outputs": [],
   "source": [
    "# Import necessary modules\n",
    "from src.telegram_client import TelegramScraper\n",
    "from src.data_cleaning import preprocess_messages\n",
    "from src.config import CHANNELS"
   ]
  },
  {
   "cell_type": "code",
   "execution_count": 11,
   "id": "4687901e-740f-4b1e-9bb2-b2a23a0f8b62",
   "metadata": {},
   "outputs": [
    {
     "name": "stdout",
     "output_type": "stream",
     "text": [
      "Telegram Scraper Initialized\n"
     ]
    }
   ],
   "source": [
    "#Initializing Telegram Scraper\n",
    "scraper = TelegramScraper()\n",
    "print(\"Telegram Scraper Initialized\")"
   ]
  },
  {
   "cell_type": "code",
   "execution_count": 14,
   "id": "5ddd1184-9228-4668-be9c-a61807197513",
   "metadata": {},
   "outputs": [
    {
     "name": "stdout",
     "output_type": "stream",
     "text": [
      "Fetching messages from @ZemenExpress...\n"
     ]
    },
    {
     "ename": "AttributeError",
     "evalue": "'TelegramScraper' object has no attribute 'async_fetch_and_save'",
     "output_type": "error",
     "traceback": [
      "\u001b[31m---------------------------------------------------------------------------\u001b[39m",
      "\u001b[31mAttributeError\u001b[39m                            Traceback (most recent call last)",
      "\u001b[36mCell\u001b[39m\u001b[36m \u001b[39m\u001b[32mIn[14]\u001b[39m\u001b[32m, line 13\u001b[39m\n\u001b[32m     10\u001b[39m         \u001b[38;5;28mprint\u001b[39m(\u001b[33mf\u001b[39m\u001b[33m\"\u001b[39m\u001b[33mFetching messages from \u001b[39m\u001b[38;5;132;01m{\u001b[39;00mchannel\u001b[38;5;132;01m}\u001b[39;00m\u001b[33m...\u001b[39m\u001b[33m\"\u001b[39m)\n\u001b[32m     11\u001b[39m         \u001b[38;5;28;01mawait\u001b[39;00m scraper.async_fetch_and_save(channel, limit=\u001b[32m100\u001b[39m)\n\u001b[32m---> \u001b[39m\u001b[32m13\u001b[39m \u001b[38;5;28;01mawait\u001b[39;00m fetch_channels()\n",
      "\u001b[36mCell\u001b[39m\u001b[36m \u001b[39m\u001b[32mIn[14]\u001b[39m\u001b[32m, line 11\u001b[39m, in \u001b[36mfetch_channels\u001b[39m\u001b[34m()\u001b[39m\n\u001b[32m      9\u001b[39m \u001b[38;5;28;01mfor\u001b[39;00m channel \u001b[38;5;129;01min\u001b[39;00m channels_to_fetch:\n\u001b[32m     10\u001b[39m     \u001b[38;5;28mprint\u001b[39m(\u001b[33mf\u001b[39m\u001b[33m\"\u001b[39m\u001b[33mFetching messages from \u001b[39m\u001b[38;5;132;01m{\u001b[39;00mchannel\u001b[38;5;132;01m}\u001b[39;00m\u001b[33m...\u001b[39m\u001b[33m\"\u001b[39m)\n\u001b[32m---> \u001b[39m\u001b[32m11\u001b[39m     \u001b[38;5;28;01mawait\u001b[39;00m \u001b[43mscraper\u001b[49m\u001b[43m.\u001b[49m\u001b[43masync_fetch_and_save\u001b[49m(channel, limit=\u001b[32m100\u001b[39m)\n",
      "\u001b[31mAttributeError\u001b[39m: 'TelegramScraper' object has no attribute 'async_fetch_and_save'"
     ]
    }
   ],
   "source": [
    "import asyncio\n",
    "from src.telegram_client import TelegramScraper\n",
    "from src.config import CHANNELS\n",
    "\n",
    "scraper = TelegramScraper()\n",
    "\n",
    "async def fetch_channels():\n",
    "    channels_to_fetch = CHANNELS[:3]\n",
    "    for channel in channels_to_fetch:\n",
    "        print(f\"Fetching messages from {channel}...\")\n",
    "        await scraper.async_fetch_and_save(channel)\n",
    "\n",
    "await fetch_channels()"
   ]
  },
  {
   "cell_type": "code",
   "execution_count": 12,
   "id": "6b28661d-791a-4de0-964a-fd366e8abab7",
   "metadata": {},
   "outputs": [
    {
     "name": "stdout",
     "output_type": "stream",
     "text": [
      "Fetching messages from @ZemenExpress...\n"
     ]
    },
    {
     "ename": "RuntimeError",
     "evalue": "You must use \"async with\" if the event loop is running (i.e. you are inside an \"async def\")",
     "output_type": "error",
     "traceback": [
      "\u001b[31m---------------------------------------------------------------------------\u001b[39m",
      "\u001b[31mRuntimeError\u001b[39m                              Traceback (most recent call last)",
      "\u001b[36mCell\u001b[39m\u001b[36m \u001b[39m\u001b[32mIn[12]\u001b[39m\u001b[32m, line 5\u001b[39m\n\u001b[32m      3\u001b[39m \u001b[38;5;28;01mfor\u001b[39;00m channel \u001b[38;5;129;01min\u001b[39;00m channels_to_fetch:\n\u001b[32m      4\u001b[39m     \u001b[38;5;28mprint\u001b[39m(\u001b[33mf\u001b[39m\u001b[33m\"\u001b[39m\u001b[33mFetching messages from \u001b[39m\u001b[38;5;132;01m{\u001b[39;00mchannel\u001b[38;5;132;01m}\u001b[39;00m\u001b[33m...\u001b[39m\u001b[33m\"\u001b[39m)\n\u001b[32m----> \u001b[39m\u001b[32m5\u001b[39m     \u001b[43mscraper\u001b[49m\u001b[43m.\u001b[49m\u001b[43mfetch_and_save\u001b[49m\u001b[43m(\u001b[49m\u001b[43mchannel\u001b[49m\u001b[43m,\u001b[49m\u001b[43m \u001b[49m\u001b[43mlimit\u001b[49m\u001b[43m=\u001b[49m\u001b[32;43m100\u001b[39;49m\u001b[43m)\u001b[49m\n",
      "\u001b[36mFile \u001b[39m\u001b[32m~\\Desktop\\KAIM\\Week 4\\LLM-powered-Amharic-NER-Vendor-Insights-for-EthioMart-Week-04\\src\\telegram_client.py:14\u001b[39m, in \u001b[36mTelegramScraper.fetch_and_save\u001b[39m\u001b[34m(self, channel, limit)\u001b[39m\n\u001b[32m     12\u001b[39m \u001b[38;5;28;01mdef\u001b[39;00m\u001b[38;5;250m \u001b[39m\u001b[34mfetch_and_save\u001b[39m(\u001b[38;5;28mself\u001b[39m, channel, limit=\u001b[32m200\u001b[39m):\n\u001b[32m     13\u001b[39m     messages = []\n\u001b[32m---> \u001b[39m\u001b[32m14\u001b[39m \u001b[43m    \u001b[49m\u001b[38;5;28;43;01mwith\u001b[39;49;00m\u001b[43m \u001b[49m\u001b[38;5;28;43mself\u001b[39;49m\u001b[43m.\u001b[49m\u001b[43mclient\u001b[49m\u001b[43m:\u001b[49m\n\u001b[32m     15\u001b[39m \u001b[43m        \u001b[49m\u001b[38;5;28;43;01mfor\u001b[39;49;00m\u001b[43m \u001b[49m\u001b[43mmsg\u001b[49m\u001b[43m \u001b[49m\u001b[38;5;129;43;01min\u001b[39;49;00m\u001b[43m \u001b[49m\u001b[38;5;28;43mself\u001b[39;49m\u001b[43m.\u001b[49m\u001b[43mclient\u001b[49m\u001b[43m.\u001b[49m\u001b[43miter_messages\u001b[49m\u001b[43m(\u001b[49m\u001b[43mchannel\u001b[49m\u001b[43m,\u001b[49m\u001b[43m \u001b[49m\u001b[43mlimit\u001b[49m\u001b[43m=\u001b[49m\u001b[43mlimit\u001b[49m\u001b[43m)\u001b[49m\u001b[43m:\u001b[49m\n\u001b[32m     16\u001b[39m \u001b[43m            \u001b[49m\u001b[43mmsg_dict\u001b[49m\u001b[43m \u001b[49m\u001b[43m=\u001b[49m\u001b[43m \u001b[49m\u001b[43m{\u001b[49m\n\u001b[32m     17\u001b[39m \u001b[43m                \u001b[49m\u001b[33;43m\"\u001b[39;49m\u001b[33;43mchannel\u001b[39;49m\u001b[33;43m\"\u001b[39;49m\u001b[43m:\u001b[49m\u001b[43m \u001b[49m\u001b[43mchannel\u001b[49m\u001b[43m,\u001b[49m\n\u001b[32m     18\u001b[39m \u001b[43m                \u001b[49m\u001b[33;43m\"\u001b[39;49m\u001b[33;43mmessage\u001b[39;49m\u001b[33;43m\"\u001b[39;49m\u001b[43m:\u001b[49m\u001b[43m \u001b[49m\u001b[43mmsg\u001b[49m\u001b[43m.\u001b[49m\u001b[43mmessage\u001b[49m\u001b[43m,\u001b[49m\n\u001b[32m   (...)\u001b[39m\u001b[32m     21\u001b[39m \u001b[43m                \u001b[49m\u001b[33;43m\"\u001b[39;49m\u001b[33;43mmedia\u001b[39;49m\u001b[33;43m\"\u001b[39;49m\u001b[43m:\u001b[49m\u001b[43m \u001b[49m\u001b[38;5;28;43;01mNone\u001b[39;49;00m\n\u001b[32m     22\u001b[39m \u001b[43m            \u001b[49m\u001b[43m}\u001b[49m\n",
      "\u001b[36mFile \u001b[39m\u001b[32m~\\AppData\\Local\\Programs\\Python\\Python313\\Lib\\site-packages\\telethon\\helpers.py:214\u001b[39m, in \u001b[36m_sync_enter\u001b[39m\u001b[34m(self)\u001b[39m\n\u001b[32m    211\u001b[39m     loop = \u001b[38;5;28mself\u001b[39m._client.loop\n\u001b[32m    213\u001b[39m \u001b[38;5;28;01mif\u001b[39;00m loop.is_running():\n\u001b[32m--> \u001b[39m\u001b[32m214\u001b[39m     \u001b[38;5;28;01mraise\u001b[39;00m \u001b[38;5;167;01mRuntimeError\u001b[39;00m(\n\u001b[32m    215\u001b[39m         \u001b[33m'\u001b[39m\u001b[33mYou must use \u001b[39m\u001b[33m\"\u001b[39m\u001b[33masync with\u001b[39m\u001b[33m\"\u001b[39m\u001b[33m if the event loop \u001b[39m\u001b[33m'\u001b[39m\n\u001b[32m    216\u001b[39m         \u001b[33m'\u001b[39m\u001b[33mis running (i.e. you are inside an \u001b[39m\u001b[33m\"\u001b[39m\u001b[33masync def\u001b[39m\u001b[33m\"\u001b[39m\u001b[33m)\u001b[39m\u001b[33m'\u001b[39m\n\u001b[32m    217\u001b[39m     )\n\u001b[32m    219\u001b[39m \u001b[38;5;28;01mreturn\u001b[39;00m loop.run_until_complete(\u001b[38;5;28mself\u001b[39m.\u001b[34m__aenter__\u001b[39m())\n",
      "\u001b[31mRuntimeError\u001b[39m: You must use \"async with\" if the event loop is running (i.e. you are inside an \"async def\")"
     ]
    }
   ],
   "source": [
    "# Fetch messages from selected channels\n",
    "channels_to_fetch = CHANNELS[:3]  # Fetch from first 3 channels\n",
    "for channel in channels_to_fetch:\n",
    "    print(f\"Fetching messages from {channel}...\")\n",
    "    scraper.fetch_and_save(channel, limit=100)"
   ]
  },
  {
   "cell_type": "code",
   "execution_count": null,
   "id": "2c84231d-e729-4d2c-9091-54e227d97461",
   "metadata": {},
   "outputs": [],
   "source": [
    "#Preprocess the fetched messages\n",
    "preprocess_messages()\n",
    "print(\"Preprocessing complete.\")"
   ]
  },
  {
   "cell_type": "code",
   "execution_count": null,
   "id": "16d199ce-d040-4e16-bbc1-0402a875cba1",
   "metadata": {},
   "outputs": [],
   "source": [
    "# Verify processed data\n",
    "import json\n",
    "import os\n",
    "from src.config import PROCESSED_DATA_PATH"
   ]
  },
  {
   "cell_type": "code",
   "execution_count": null,
   "id": "6c0cc016-45c6-430c-9112-305c929857a9",
   "metadata": {},
   "outputs": [],
   "source": [
    "files = [f for f in os.listdir(PROCESSED_DATA_PATH) if f.endswith('.json')]\n",
    "print(f\"Processed files available: {files}\")"
   ]
  },
  {
   "cell_type": "code",
   "execution_count": null,
   "id": "687d2020-3593-4253-8088-39c3a5bce7f8",
   "metadata": {},
   "outputs": [],
   "source": [
    "if files:\n",
    "    with open(os.path.join(PROCESSED_DATA_PATH, files[0]), 'r', encoding='utf-8') as f:\n",
    "        data = json.load(f)\n",
    "    print(f\"Sample processed message from {files[0]}:\")\n",
    "    print(data[0])"
   ]
  }
 ],
 "metadata": {
  "kernelspec": {
   "display_name": "Python 3 (ipykernel)",
   "language": "python",
   "name": "python3"
  },
  "language_info": {
   "codemirror_mode": {
    "name": "ipython",
    "version": 3
   },
   "file_extension": ".py",
   "mimetype": "text/x-python",
   "name": "python",
   "nbconvert_exporter": "python",
   "pygments_lexer": "ipython3",
   "version": "3.13.3"
  }
 },
 "nbformat": 4,
 "nbformat_minor": 5
}
