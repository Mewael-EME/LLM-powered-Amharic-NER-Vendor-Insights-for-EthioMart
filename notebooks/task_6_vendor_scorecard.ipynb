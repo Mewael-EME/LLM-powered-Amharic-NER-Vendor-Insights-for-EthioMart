# 1. Imports
import pandas as pd
import matplotlib.pyplot as plt
from datetime import datetime
from collections import defaultdict

# 2. Load Your Annotated Telegram Post Data (Assumed Format)
# Columns: 'vendor', 'post_id', 'text', 'timestamp', 'views', 'entities'
df = pd.read_json("../outputs/annotated_posts.json")  # Adjust path if needed

# Ensure timestamp is datetime
df["timestamp"] = pd.to_datetime(df["timestamp"])

# 3. Feature Engineering Functions
def calculate_posting_frequency(df_vendor):
    date_range = (df_vendor["timestamp"].max() - df_vendor["timestamp"].min()).days + 1
    weeks = max(date_range / 7, 1)
    return round(len(df_vendor) / weeks, 2)

def get_avg_views(df_vendor):
    return round(df_vendor["views"].mean(), 2)

def get_top_post_info(df_vendor):
    top_row = df_vendor[df_vendor["views"] == df_vendor["views"].max()].iloc[0]
    return top_row["text"], top_row["views"]

def extract_price_from_entities(entities):
    prices = []
    for entity in entities:
        if entity["label"] == "PRICE":
            try:
                val = float(entity["text"].replace("ETB", "").replace(",", "").strip())
                prices.append(val)
            except:
                continue
    return prices

def calculate_avg_price(df_vendor):
    all_prices = []
    for entities in df_vendor["entities"]:
        prices = extract_price_from_entities(entities)
        all_prices.extend(prices)
    return round(sum(all_prices) / len(all_prices), 2) if all_prices else 0

# 4. Score Calculation per Vendor
vendor_summary = []

for vendor in df["vendor"].unique():
    vendor_df = df[df["vendor"] == vendor]
    
    freq = calculate_posting_frequency(vendor_df)
    avg_views = get_avg_views(vendor_df)
    avg_price = calculate_avg_price(vendor_df)
    top_text, top_views = get_top_post_info(vendor_df)
    
    lending_score = round((avg_views * 0.5) + (freq * 0.5), 2)
    
    vendor_summary.append({
        "Vendor": vendor,
        "Posts/Week": freq,
        "Avg. Views/Post": avg_views,
        "Avg. Price (ETB)": avg_price,
        "Top Post": top_text[:100],
        "Top Views": top_views,
        "Lending Score": lending_score
    })

# 5. Create Summary Table
scorecard_df = pd.DataFrame(vendor_summary).sort_values("Lending Score", ascending=False)
scorecard_df.reset_index(drop=True, inplace=True)

# 6. Save to CSV
scorecard_df.to_csv("../outputs/vendor_scorecard.csv", index=False)

# 7. Visualize Top Vendors
top_vendors = scorecard_df.head(10)
plt.figure(figsize=(10, 5))
plt.barh(top_vendors["Vendor"], top_vendors["Lending Score"], color='teal')
plt.xlabel("Lending Score")
plt.title("Top 10 Vendors by Lending Score")
plt.gca().invert_yaxis()
plt.tight_layout()
plt.show()

# 8. Display the Scorecard
scorecard_df